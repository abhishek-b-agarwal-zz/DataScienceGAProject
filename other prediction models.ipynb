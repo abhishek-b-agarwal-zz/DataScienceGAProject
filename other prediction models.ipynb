{
 "cells": [
  {
   "cell_type": "code",
   "execution_count": 1,
   "metadata": {
    "collapsed": true
   },
   "outputs": [],
   "source": [
    "import pandas as pd\n",
    "rating_elec = pd.read_csv('ratings_Electronics.csv',\n",
    "                          header=None, \n",
    "                          names=['user_id','item_id','rating','epoch_timestamp']\n",
    "                         ).sample(500000)"
   ]
  },
  {
   "cell_type": "code",
   "execution_count": 39,
   "metadata": {
    "collapsed": false
   },
   "outputs": [],
   "source": [
    "rating_elec['date_of_review'] = rating_elec.epoch_timestamp.map(convertEpochTime)\n"
   ]
  },
  {
   "cell_type": "code",
   "execution_count": 40,
   "metadata": {
    "collapsed": true
   },
   "outputs": [],
   "source": [
    "import sklearn.cluster"
   ]
  },
  {
   "cell_type": "code",
   "execution_count": 45,
   "metadata": {
    "collapsed": true
   },
   "outputs": [],
   "source": [
    "X = rating_elec[['rating','epoch_timestamp']]"
   ]
  },
  {
   "cell_type": "code",
   "execution_count": 46,
   "metadata": {
    "collapsed": false
   },
   "outputs": [
    {
     "data": {
      "text/plain": [
       "array([0, 0, 0, ..., 0, 0, 0])"
      ]
     },
     "execution_count": 46,
     "metadata": {},
     "output_type": "execute_result"
    }
   ],
   "source": [
    "clusterer = sklearn.cluster.KMeans(n_clusters=2)\n",
    "cluster_suggestions = clusterer.fit_predict(X)\n",
    "cluster_suggestions"
   ]
  },
  {
   "cell_type": "code",
   "execution_count": 47,
   "metadata": {
    "collapsed": false
   },
   "outputs": [
    {
     "data": {
      "text/plain": [
       "0.70645390870581959"
      ]
     },
     "execution_count": 47,
     "metadata": {},
     "output_type": "execute_result"
    }
   ],
   "source": [
    "import sklearn.metrics\n",
    "sklearn.metrics.silhouette_score(X, cluster_suggestions,sample_size=30000)"
   ]
  },
  {
   "cell_type": "code",
   "execution_count": 28,
   "metadata": {
    "collapsed": false
   },
   "outputs": [
    {
     "data": {
      "text/plain": [
       "[0.70240878678398933,\n",
       " 0.64553015495608068,\n",
       " 0.62015597122572552,\n",
       " 0.57435688195114032,\n",
       " 0.58588792245521504,\n",
       " 0.58539283833005729,\n",
       " 0.58460606578844942,\n",
       " 0.55760632630508411]"
      ]
     },
     "execution_count": 28,
     "metadata": {},
     "output_type": "execute_result"
    }
   ],
   "source": [
    "scores = []\n",
    "for i in range(2, 10):\n",
    "    clustereri = sklearn.cluster.KMeans(n_clusters=i)\n",
    "    cluster_suggestionsi = clustereri.fit_predict(X)\n",
    "    scores.append(sklearn.metrics.silhouette_score(X, cluster_suggestionsi,sample_size=15000))\n",
    "scores"
   ]
  },
  {
   "cell_type": "code",
   "execution_count": 29,
   "metadata": {
    "collapsed": false
   },
   "outputs": [
    {
     "data": {
      "text/plain": [
       "[<matplotlib.lines.Line2D at 0x1d7b8518>]"
      ]
     },
     "execution_count": 29,
     "metadata": {},
     "output_type": "execute_result"
    },
    {
     "data": {
      "image/png": "[encoded data removed]",
      "text/plain": [
       "<matplotlib.figure.Figure at 0x33c1bdd8>"
      ]
     },
     "metadata": {},
     "output_type": "display_data"
    }
   ],
   "source": [
    "%matplotlib inline\n",
    "import matplotlib\n",
    "matplotlib.pyplot.plot(range(2,10), scores)"
   ]
  },
  {
   "cell_type": "code",
   "execution_count": 53,
   "metadata": {
    "collapsed": false
   },
   "outputs": [],
   "source": [
    "#adding a column for day of the week; Monday=0, Sunday=6\n",
    "rating_elec['month_of_review'] = rating_elec.date_of_review.dt.month"
   ]
  },
  {
   "cell_type": "code",
   "execution_count": 54,
   "metadata": {
    "collapsed": true
   },
   "outputs": [],
   "source": [
    "x = rating_elec['rating']\n",
    "y = rating_elec['month_of_review']"
   ]
  },
  {
   "cell_type": "code",
   "execution_count": 55,
   "metadata": {
    "collapsed": false
   },
   "outputs": [
    {
     "data": {
      "text/plain": [
       "array(['blue', 'blue', 'blue', ..., 'blue', 'blue', 'blue'], \n",
       "      dtype='|S5')"
      ]
     },
     "execution_count": 55,
     "metadata": {},
     "output_type": "execute_result"
    }
   ],
   "source": [
    "import numpy\n",
    "colouring = numpy.array(['blue', 'green'])\n",
    "colour_by_cluster = colouring[cluster_suggestions]\n",
    "colour_by_cluster"
   ]
  },
  {
   "cell_type": "code",
   "execution_count": 56,
   "metadata": {
    "collapsed": false
   },
   "outputs": [
    {
     "data": {
      "text/plain": [
       "<matplotlib.collections.PathCollection at 0x34a0f048>"
      ]
     },
     "execution_count": 56,
     "metadata": {},
     "output_type": "execute_result"
    },
    {
     "data": {
      "image/png": "[encoded data removed]",
      "text/plain": [
       "<matplotlib.figure.Figure at 0x3bb319b0>"
      ]
     },
     "metadata": {},
     "output_type": "display_data"
    }
   ],
   "source": [
    "matplotlib.pyplot.scatter(x,y, color=colour_by_cluster)"
   ]
  },
  {
   "cell_type": "markdown",
   "metadata": {},
   "source": [
    "## other link prediction models"
   ]
  },
  {
   "cell_type": "code",
   "execution_count": 57,
   "metadata": {
    "collapsed": true
   },
   "outputs": [],
   "source": [
    "# trying non-weighted graph first so taking the items which has good ratings (equivalent to bought and liked)\n",
    "rating_elec_new = rating_elec[rating_elec.rating > 3]"
   ]
  },
  {
   "cell_type": "code",
   "execution_count": 84,
   "metadata": {
    "collapsed": false,
    "scrolled": true
   },
   "outputs": [
    {
     "data": {
      "text/plain": [
       "item_id\n",
       "B0074BW614    1026\n",
       "B007WTAJTO     780\n",
       "B0019EHU8G     734\n",
       "B00DR0PDNE     719\n",
       "B003ELYQGG     684\n",
       "B006GWO5WK     614\n",
       "B003ES5ZUU     607\n",
       "B007R5YDYA     604\n",
       "B00622AG6S     536\n",
       "B000LRMS66     521\n",
       "B0002L5R78     513\n",
       "B003LR7ME6     463\n",
       "B008OHNZI0     455\n",
       "B009SYZ8OC     427\n",
       "B00BGGDVOO     380\n",
       "B002WE6D44     353\n",
       "B009A5204K     346\n",
       "B0098F5W0Q     343\n",
       "B005HMKKH4     339\n",
       "B00BGA9WK2     330\n",
       "B002MAPRYU     309\n",
       "B0012S4APK     303\n",
       "B002V88HFE     299\n",
       "B00316263Y     296\n",
       "B0052YFYFK     292\n",
       "B004QK7HI8     285\n",
       "B0041Q38NU     269\n",
       "B000S5Q9CA     264\n",
       "B0044YU60M     264\n",
       "B000BQ7GW8     258\n",
       "              ... \n",
       "B00555R3HS       1\n",
       "B00555R3JQ       1\n",
       "B00555R3ZK       1\n",
       "B00556DHXG       1\n",
       "B00556I88K       1\n",
       "B00556NCBI       1\n",
       "B00556O4L0       1\n",
       "B00556TKRI       1\n",
       "B005578ULY       1\n",
       "B00557AVSY       1\n",
       "B00555R0XK       1\n",
       "B00555QYB4       1\n",
       "B00555369C       1\n",
       "B00555QW70       1\n",
       "B0055536CO       1\n",
       "B005553BOC       1\n",
       "B005553BS8       1\n",
       "B005553CZK       1\n",
       "B005553EPS       1\n",
       "B005553GBA       1\n",
       "B005553HUA       1\n",
       "B005553IBS       1\n",
       "B005553IWM       1\n",
       "B005553JQW       1\n",
       "B005553KJ8       1\n",
       "B005553KNE       1\n",
       "B005553MD2       1\n",
       "B005553SUY       1\n",
       "B00555EG7S       1\n",
       "0132793040       1\n",
       "Name: rating, dtype: int64"
      ]
     },
     "execution_count": 84,
     "metadata": {},
     "output_type": "execute_result"
    }
   ],
   "source": [
    "rating_elec_new[['item_id','rating']].groupby(['item_id'])['rating'].count().sort_values(ascending=False)"
   ]
  },
  {
   "cell_type": "code",
   "execution_count": 67,
   "metadata": {
    "collapsed": false
   },
   "outputs": [
    {
     "data": {
      "text/html": [
       "<div>\n",
       "<table border=\"1\" class=\"dataframe\">\n",
       "  <thead>\n",
       "    <tr style=\"text-align: right;\">\n",
       "      <th></th>\n",
       "      <th>user_id</th>\n",
       "      <th>item_id</th>\n",
       "      <th>rating</th>\n",
       "      <th>epoch_timestamp</th>\n",
       "      <th>date_of_review</th>\n",
       "      <th>month_of_review</th>\n",
       "    </tr>\n",
       "  </thead>\n",
       "  <tbody>\n",
       "    <tr>\n",
       "      <th>7821501</th>\n",
       "      <td>AHNQX1408GB4E</td>\n",
       "      <td>B00KFAGCUM</td>\n",
       "      <td>5.0</td>\n",
       "      <td>1403049600</td>\n",
       "      <td>2014-06-18</td>\n",
       "      <td>6</td>\n",
       "    </tr>\n",
       "    <tr>\n",
       "      <th>7821557</th>\n",
       "      <td>A22T9W434DCQ0P</td>\n",
       "      <td>B00KFAGCUM</td>\n",
       "      <td>4.0</td>\n",
       "      <td>1405900800</td>\n",
       "      <td>2014-07-21</td>\n",
       "      <td>7</td>\n",
       "    </tr>\n",
       "    <tr>\n",
       "      <th>7821568</th>\n",
       "      <td>A2YJYBE8E07C6J</td>\n",
       "      <td>B00KFAGCUM</td>\n",
       "      <td>5.0</td>\n",
       "      <td>1405641600</td>\n",
       "      <td>2014-07-18</td>\n",
       "      <td>7</td>\n",
       "    </tr>\n",
       "    <tr>\n",
       "      <th>7821543</th>\n",
       "      <td>AWSGW35X1UY1I</td>\n",
       "      <td>B00KFAGCUM</td>\n",
       "      <td>5.0</td>\n",
       "      <td>1405987200</td>\n",
       "      <td>2014-07-22</td>\n",
       "      <td>7</td>\n",
       "    </tr>\n",
       "    <tr>\n",
       "      <th>7821544</th>\n",
       "      <td>A3AVJCB1ZD6ZY5</td>\n",
       "      <td>B00KFAGCUM</td>\n",
       "      <td>5.0</td>\n",
       "      <td>1403740800</td>\n",
       "      <td>2014-06-26</td>\n",
       "      <td>6</td>\n",
       "    </tr>\n",
       "    <tr>\n",
       "      <th>7821470</th>\n",
       "      <td>A24LRGIRBRTNDT</td>\n",
       "      <td>B00KFAGCUM</td>\n",
       "      <td>5.0</td>\n",
       "      <td>1405728000</td>\n",
       "      <td>2014-07-19</td>\n",
       "      <td>7</td>\n",
       "    </tr>\n",
       "    <tr>\n",
       "      <th>7821460</th>\n",
       "      <td>A1FHPAZPJNANJR</td>\n",
       "      <td>B00KFAGCUM</td>\n",
       "      <td>5.0</td>\n",
       "      <td>1405641600</td>\n",
       "      <td>2014-07-18</td>\n",
       "      <td>7</td>\n",
       "    </tr>\n",
       "  </tbody>\n",
       "</table>\n",
       "</div>"
      ],
      "text/plain": [
       "                user_id     item_id  rating  epoch_timestamp date_of_review  \\\n",
       "7821501   AHNQX1408GB4E  B00KFAGCUM     5.0       1403049600     2014-06-18   \n",
       "7821557  A22T9W434DCQ0P  B00KFAGCUM     4.0       1405900800     2014-07-21   \n",
       "7821568  A2YJYBE8E07C6J  B00KFAGCUM     5.0       1405641600     2014-07-18   \n",
       "7821543   AWSGW35X1UY1I  B00KFAGCUM     5.0       1405987200     2014-07-22   \n",
       "7821544  A3AVJCB1ZD6ZY5  B00KFAGCUM     5.0       1403740800     2014-06-26   \n",
       "7821470  A24LRGIRBRTNDT  B00KFAGCUM     5.0       1405728000     2014-07-19   \n",
       "7821460  A1FHPAZPJNANJR  B00KFAGCUM     5.0       1405641600     2014-07-18   \n",
       "\n",
       "         month_of_review  \n",
       "7821501                6  \n",
       "7821557                7  \n",
       "7821568                7  \n",
       "7821543                7  \n",
       "7821544                6  \n",
       "7821470                7  \n",
       "7821460                7  "
      ]
     },
     "execution_count": 67,
     "metadata": {},
     "output_type": "execute_result"
    }
   ],
   "source": [
    "rating_elec_new[rating_elec_new.item_id == 'B00KFAGCUM']"
   ]
  },
  {
   "cell_type": "code",
   "execution_count": 94,
   "metadata": {
    "collapsed": false
   },
   "outputs": [
    {
     "data": {
      "text/html": [
       "<div>\n",
       "<table border=\"1\" class=\"dataframe\">\n",
       "  <thead>\n",
       "    <tr style=\"text-align: right;\">\n",
       "      <th></th>\n",
       "      <th>user_id</th>\n",
       "      <th>item_id</th>\n",
       "      <th>rating</th>\n",
       "      <th>epoch_timestamp</th>\n",
       "      <th>date_of_review</th>\n",
       "      <th>month_of_review</th>\n",
       "    </tr>\n",
       "  </thead>\n",
       "  <tbody>\n",
       "    <tr>\n",
       "      <th>5862360</th>\n",
       "      <td>A3AVJCB1ZD6ZY5</td>\n",
       "      <td>B007Q8GOGI</td>\n",
       "      <td>4.0</td>\n",
       "      <td>1345075200</td>\n",
       "      <td>2012-08-16</td>\n",
       "      <td>8</td>\n",
       "    </tr>\n",
       "    <tr>\n",
       "      <th>7821544</th>\n",
       "      <td>A3AVJCB1ZD6ZY5</td>\n",
       "      <td>B00KFAGCUM</td>\n",
       "      <td>5.0</td>\n",
       "      <td>1403740800</td>\n",
       "      <td>2014-06-26</td>\n",
       "      <td>6</td>\n",
       "    </tr>\n",
       "    <tr>\n",
       "      <th>933763</th>\n",
       "      <td>A3AVJCB1ZD6ZY5</td>\n",
       "      <td>B000FIQC5E</td>\n",
       "      <td>5.0</td>\n",
       "      <td>1221955200</td>\n",
       "      <td>2008-09-21</td>\n",
       "      <td>9</td>\n",
       "    </tr>\n",
       "  </tbody>\n",
       "</table>\n",
       "</div>"
      ],
      "text/plain": [
       "                user_id     item_id  rating  epoch_timestamp date_of_review  \\\n",
       "5862360  A3AVJCB1ZD6ZY5  B007Q8GOGI     4.0       1345075200     2012-08-16   \n",
       "7821544  A3AVJCB1ZD6ZY5  B00KFAGCUM     5.0       1403740800     2014-06-26   \n",
       "933763   A3AVJCB1ZD6ZY5  B000FIQC5E     5.0       1221955200     2008-09-21   \n",
       "\n",
       "         month_of_review  \n",
       "5862360                8  \n",
       "7821544                6  \n",
       "933763                 9  "
      ]
     },
     "execution_count": 94,
     "metadata": {},
     "output_type": "execute_result"
    }
   ],
   "source": [
    "rating_elec_new[rating_elec_new.user_id == 'A3AVJCB1ZD6ZY5']"
   ]
  },
  {
   "cell_type": "code",
   "execution_count": 71,
   "metadata": {
    "collapsed": true
   },
   "outputs": [],
   "source": [
    "# resource allocation index\n",
    "import networkx as nx\n",
    "graph = nx.Graph()\n",
    "nodes_already_added = set()\n",
    "for index, row in rating_elec_new.iterrows():\n",
    "    user = row['user_id']\n",
    "    item = row['item_id']\n",
    "    if user not in nodes_already_added:\n",
    "        graph.add_node(user)\n",
    "        nodes_already_added.add(user)\n",
    "    if item not in nodes_already_added:\n",
    "        graph.add_node(item)\n",
    "        nodes_already_added.add(item)\n",
    "    graph.add_edge(user, item)"
   ]
  },
  {
   "cell_type": "code",
   "execution_count": 72,
   "metadata": {
    "collapsed": false
   },
   "outputs": [],
   "source": [
    "#ra_index_soundarajan_hopcroft\n",
    "import networkx as nx\n",
    "graph_community = nx.Graph()\n",
    "nodes_already_added = set()\n",
    "for index, row in rating_elec_new.iterrows():\n",
    "    user = row['user_id']\n",
    "    item = row['item_id']\n",
    "    if user not in nodes_already_added:\n",
    "        graph_community.add_node(user)\n",
    "        graph_community.node[user]['community'] = user\n",
    "        nodes_already_added.add(user)\n",
    "    if item not in nodes_already_added:\n",
    "        graph_community.add_node(item)\n",
    "        graph_community.node[item]['community'] = item\n",
    "        nodes_already_added.add(item)\n",
    "    graph_community.add_edge(user, item)"
   ]
  },
  {
   "cell_type": "code",
   "execution_count": 76,
   "metadata": {
    "collapsed": true
   },
   "outputs": [],
   "source": [
    "# to pass one item and get n no. of most similar items\n",
    "def most_similar_items_soundarajan(item,cnt_items):\n",
    "    similar_items = pd.DataFrame()\n",
    "    for other_item in rating_elec_new.item_id.unique():\n",
    "        if  item != other_item:\n",
    "            rai = nx.ra_index_soundarajan_hopcroft(graph_community,[(item,other_item)])\n",
    "            for u,v,p in rai:\n",
    "                similar_items = similar_items.append({\n",
    "                        'Soundarajan Coef.':p,\n",
    "                        'item1':u,\n",
    "                        'item2':v\n",
    "                    },ignore_index=True)\n",
    "    similar_items.sort_values('Soundarajan Coef.',ascending=False,inplace='True')\n",
    "    return similar_items[0:cnt_items]"
   ]
  },
  {
   "cell_type": "code",
   "execution_count": 77,
   "metadata": {
    "collapsed": true
   },
   "outputs": [],
   "source": [
    "# to pass one item and get n no. of most similar items\n",
    "def most_similar_items_rai(item,cnt_items):\n",
    "    similar_items = pd.DataFrame()\n",
    "    for other_item in rating_elec_new.item_id.unique():\n",
    "        if  item != other_item:\n",
    "            rai = nx.resource_allocation_index(graph,[(item,other_item)])\n",
    "            for u,v,p in rai:\n",
    "                similar_items = similar_items.append({\n",
    "                        'RAI':p,\n",
    "                        'item1':u,\n",
    "                        'item2':v\n",
    "                    },ignore_index=True)\n",
    "    similar_items.sort_values('RAI',ascending=False,inplace='True')\n",
    "    return similar_items[0:cnt_items]"
   ]
  },
  {
   "cell_type": "code",
   "execution_count": 78,
   "metadata": {
    "collapsed": false
   },
   "outputs": [
    {
     "name": "stdout",
     "output_type": "stream",
     "text": [
      "       Soundarajan Coef.       item1       item2\n",
      "0                    0.0  B00KFAGCUM  B000CMS0XU\n",
      "70948                0.0  B00KFAGCUM  B000MX3O76\n",
      "70958                0.0  B00KFAGCUM  B001U1LX3Q\n",
      "            RAI       item1       item2\n",
      "26257  0.333333  B00KFAGCUM  B007Q8GOGI\n",
      "14671  0.333333  B00KFAGCUM  B005H3Q59U\n",
      "2712   0.333333  B00KFAGCUM  B00E3W15P0\n"
     ]
    }
   ],
   "source": [
    "print most_similar_items_soundarajan('B00KFAGCUM',3)\n",
    "print most_similar_items_rai('B00KFAGCUM',3)"
   ]
  },
  {
   "cell_type": "code",
   "execution_count": 95,
   "metadata": {
    "collapsed": false
   },
   "outputs": [
    {
     "name": "stdout",
     "output_type": "stream",
     "text": [
      "[('B00KFAGCUM', 'B000FIQC5E', 0)]\n",
      "[('B00KFAGCUM', 'B000FIQC5E', 0.3333333333333333)]\n"
     ]
    }
   ],
   "source": [
    "print list(nx.ra_index_soundarajan_hopcroft(graph_community,[['B00KFAGCUM','B000FIQC5E']]))\n",
    "print list(nx.resource_allocation_index(graph,[['B00KFAGCUM','B000FIQC5E']]))"
   ]
  },
  {
   "cell_type": "code",
   "execution_count": null,
   "metadata": {
    "collapsed": false
   },
   "outputs": [],
   "source": [
    "similar_items = pd.DataFrame()\n",
    "for item1 in rating_elec_new.item_id.unique():\n",
    "    for item2 in rating_elec_new.item_id.unique():\n",
    "        if item1 != item2 and len(list(nx.common_neighbors(graph_community,item1,item2))) > 0:\n",
    "            coef = nx.ra_index_soundarajan_hopcroft(graph_community, [(item1, item2)])\n",
    "            for u,v,p in coef:\n",
    "                similar_items = similar_items.append({\n",
    "                    'Soundarajan Coef.':p,\n",
    "                    'Item1':u,\n",
    "                    'Item2':v\n",
    "                },ignore_index=True)\n",
    "similar_items"
   ]
  },
  {
   "cell_type": "code",
   "execution_count": null,
   "metadata": {
    "collapsed": true
   },
   "outputs": [],
   "source": []
  }
 ],
 "metadata": {
  "kernelspec": {
   "display_name": "Python 2",
   "language": "python",
   "name": "python2"
  }
 },
 "nbformat": 4,
 "nbformat_minor": 2
}
