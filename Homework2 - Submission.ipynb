{
 "cells": [
  {
   "cell_type": "markdown",
   "metadata": {},
   "source": [
    "# Homework - Due March 13th, 2017\n",
    "\n",
    "* For the following use the github repository you made for your project. \n",
    "* Load some data you have gathered for your project into Python.\n",
    "* Identify some numeric and categorical features in your data. Write this up in a file called README.md \n",
    "* Run some summary statistics over the numeric data.\n",
    "* Are there any interesting features of the data that jump out?\n",
    "* Generate some data visualisations that would be useful for you to explore your data set, particularly the numeric data right now.\n",
    "* If you can find any good candidates for a regression, try some regressors out."
   ]
  },
  {
   "cell_type": "code",
   "execution_count": 2,
   "metadata": {
    "collapsed": true
   },
   "outputs": [],
   "source": [
    "import pandas as pd"
   ]
  },
  {
   "cell_type": "code",
   "execution_count": 3,
   "metadata": {
    "collapsed": true
   },
   "outputs": [],
   "source": [
    "rating_elec = pd.read_csv('ratings_Electronics.csv', header=None, names=['user_id','item_id','rating','epoch_timestamp'])"
   ]
  },
  {
   "cell_type": "code",
   "execution_count": 4,
   "metadata": {
    "collapsed": false
   },
   "outputs": [
    {
     "data": {
      "text/plain": [
       "user_id             object\n",
       "item_id             object\n",
       "rating             float64\n",
       "epoch_timestamp      int64\n",
       "dtype: object"
      ]
     },
     "execution_count": 4,
     "metadata": {},
     "output_type": "execute_result"
    }
   ],
   "source": [
    "rating_elec.dtypes"
   ]
  },
  {
   "cell_type": "code",
   "execution_count": 5,
   "metadata": {
    "collapsed": false
   },
   "outputs": [
    {
     "data": {
      "text/html": [
       "<div>\n",
       "<table border=\"1\" class=\"dataframe\">\n",
       "  <thead>\n",
       "    <tr style=\"text-align: right;\">\n",
       "      <th></th>\n",
       "      <th>user_id</th>\n",
       "      <th>item_id</th>\n",
       "      <th>rating</th>\n",
       "      <th>epoch_timestamp</th>\n",
       "    </tr>\n",
       "  </thead>\n",
       "  <tbody>\n",
       "    <tr>\n",
       "      <th>0</th>\n",
       "      <td>AKM1MP6P0OYPR</td>\n",
       "      <td>0132793040</td>\n",
       "      <td>5.0</td>\n",
       "      <td>1365811200</td>\n",
       "    </tr>\n",
       "    <tr>\n",
       "      <th>1</th>\n",
       "      <td>A2CX7LUOHB2NDG</td>\n",
       "      <td>0321732944</td>\n",
       "      <td>5.0</td>\n",
       "      <td>1341100800</td>\n",
       "    </tr>\n",
       "    <tr>\n",
       "      <th>2</th>\n",
       "      <td>A2NWSAGRHCP8N5</td>\n",
       "      <td>0439886341</td>\n",
       "      <td>1.0</td>\n",
       "      <td>1367193600</td>\n",
       "    </tr>\n",
       "    <tr>\n",
       "      <th>3</th>\n",
       "      <td>A2WNBOD3WNDNKT</td>\n",
       "      <td>0439886341</td>\n",
       "      <td>3.0</td>\n",
       "      <td>1374451200</td>\n",
       "    </tr>\n",
       "    <tr>\n",
       "      <th>4</th>\n",
       "      <td>A1GI0U4ZRJA8WN</td>\n",
       "      <td>0439886341</td>\n",
       "      <td>1.0</td>\n",
       "      <td>1334707200</td>\n",
       "    </tr>\n",
       "  </tbody>\n",
       "</table>\n",
       "</div>"
      ],
      "text/plain": [
       "          user_id     item_id  rating  epoch_timestamp\n",
       "0   AKM1MP6P0OYPR  0132793040     5.0       1365811200\n",
       "1  A2CX7LUOHB2NDG  0321732944     5.0       1341100800\n",
       "2  A2NWSAGRHCP8N5  0439886341     1.0       1367193600\n",
       "3  A2WNBOD3WNDNKT  0439886341     3.0       1374451200\n",
       "4  A1GI0U4ZRJA8WN  0439886341     1.0       1334707200"
      ]
     },
     "execution_count": 5,
     "metadata": {},
     "output_type": "execute_result"
    }
   ],
   "source": [
    "rating_elec.head()"
   ]
  },
  {
   "cell_type": "code",
   "execution_count": 74,
   "metadata": {
    "collapsed": true
   },
   "outputs": [
    {
     "data": {
      "text/plain": [
       "<bound method DataFrame.describe of                  UserID      ItemID  Rating   Timestamp\n",
       "0         AKM1MP6P0OYPR  0132793040     5.0  1365811200\n",
       "1        A2CX7LUOHB2NDG  0321732944     5.0  1341100800\n",
       "2        A2NWSAGRHCP8N5  0439886341     1.0  1367193600\n",
       "3        A2WNBOD3WNDNKT  0439886341     3.0  1374451200\n",
       "4        A1GI0U4ZRJA8WN  0439886341     1.0  1334707200\n",
       "5        A1QGNMC6O1VW39  0511189877     5.0  1397433600\n",
       "6        A3J3BRHTDRFJ2G  0511189877     2.0  1397433600\n",
       "7        A2TY0BTJOTENPG  0511189877     5.0  1395878400\n",
       "8        A34ATBPOK6HCHY  0511189877     5.0  1395532800\n",
       "9         A89DO69P0XZ27  0511189877     5.0  1395446400\n",
       "10        AZYNQZ94U6VDB  0511189877     5.0  1401321600\n",
       "11       A1DA3W4GTFXP6O  0528881469     5.0  1405641600\n",
       "12       A29LPQQDG7LD5J  0528881469     1.0  1352073600\n",
       "13        AO94DHGC771SJ  0528881469     5.0  1370131200\n",
       "14        AMO214LNFCEI4  0528881469     1.0  1290643200\n",
       "15       A28B1G1MSJ6OO1  0528881469     4.0  1280016000\n",
       "16       A3N7T0DY83Y4IG  0528881469     3.0  1283990400\n",
       "17       A1H8PY3QHMQQA0  0528881469     2.0  1290556800\n",
       "18        A2CPBQ5W4OGBX  0528881469     2.0  1277078400\n",
       "19       A265MKAR2WEH3Y  0528881469     4.0  1294790400\n",
       "20       A37K02NKUIT68K  0528881469     5.0  1293235200\n",
       "21       A2AW1SSVUIYV9Y  0528881469     4.0  1289001600\n",
       "22       A2AEHUKOV014BP  0528881469     5.0  1284249600\n",
       "23        AMLFNXUIEMN4T  0528881469     1.0  1307836800\n",
       "24       A2O8FIJR9EBU56  0528881469     4.0  1278547200\n",
       "25       A3IQGFB959IR4P  0528881469     1.0  1327363200\n",
       "26        AYTBGUX49LF3W  0528881469     4.0  1398470400\n",
       "27       A24QFSUU00IZ05  0528881469     2.0  1293580800\n",
       "28       A1NG5X8VYZWX0Q  0528881469     1.0  1286582400\n",
       "29       A1E4WG8HRWWK4R  0528881469     5.0  1390867200\n",
       "...                 ...         ...     ...         ...\n",
       "7824452  A3AENU8Y9HLRAQ  B00LMOH8DU     5.0  1405209600\n",
       "7824453   ABX8TXRB2GSKO  B00LMOH8DU     5.0  1405468800\n",
       "7824454  A1QUWXCBPGCQMW  B00LMOH8DU     5.0  1405728000\n",
       "7824455  A37B1XSZUYNSNK  B00LMOH8DU     5.0  1405036800\n",
       "7824456  A3FOXB6244Y5PC  B00LNUH5X6     5.0  1404864000\n",
       "7824457   AELQMX8YAEEYI  B00LOLBBQQ     5.0  1405382400\n",
       "7824458   AG1NNE1V43RWC  B00LOLBBQQ     1.0  1405468800\n",
       "7824459  A2QW4HHHC6XWH4  B00LPQRT34     4.0  1405209600\n",
       "7824460  A2025SOZT6OE6D  B00LS5WBYE     5.0  1405641600\n",
       "7824461  A2DOJYSPCLCQIT  B00LTAUTHE     5.0  1405382400\n",
       "7824462  A1PB6OT0OOPKNQ  B00LXEC8CU     5.0  1405641600\n",
       "7824463  A1MTPZKAYVSES3  BT008G3W52     5.0  1355702400\n",
       "7824464   AS7WVL4JGN1FI  BT008SXQ4C     1.0  1326067200\n",
       "7824465  A3GGII8ILEUI4P  BT008T2BGK     5.0  1320883200\n",
       "7824466   ATK4Q037EM13F  BT008UKTMW     4.0  1356134400\n",
       "7824467   AT10LK8R9MLHT  BT008UKTMW     3.0  1293753600\n",
       "7824468   AKVMJCP7T93X1  BT008UKTMW     5.0  1394928000\n",
       "7824469  A2H4BLBXDNSZ2O  BT008UKTMW     4.0  1316563200\n",
       "7824470  A2DARIL2TWUOLS  BT008UKTMW     2.0  1373328000\n",
       "7824471   A7ETK9SC1HAMP  BT008UKTMW     5.0  1397088000\n",
       "7824472   A5FUA9HEV2O42  BT008UKTMW     5.0  1405987200\n",
       "7824473   A84WRQR47OOKR  BT008UKTMW     1.0  1401753600\n",
       "7824474  A180UGKKYCPDH0  BT008UKTMW     5.0  1369353600\n",
       "7824475  A2R6Q6KJCYSVH7  BT008UKTMW     3.0  1343520000\n",
       "7824476  A2IGIIABRZ5LAB  BT008UKTMW     5.0  1356739200\n",
       "7824477  A2YZI3C9MOHC0L  BT008UKTMW     5.0  1396569600\n",
       "7824478  A322MDK0M89RHN  BT008UKTMW     5.0  1313366400\n",
       "7824479  A1MH90R0ADMIK0  BT008UKTMW     4.0  1404172800\n",
       "7824480  A10M2KEFPEQDHN  BT008UKTMW     4.0  1297555200\n",
       "7824481  A2G81TMIOIDEQQ  BT008V9J9U     5.0  1312675200\n",
       "\n",
       "[7824482 rows x 4 columns]>"
      ]
     },
     "execution_count": 74,
     "metadata": {},
     "output_type": "execute_result"
    }
   ],
   "source": [
    "rating_elec.describe"
   ]
  },
  {
   "cell_type": "code",
   "execution_count": 6,
   "metadata": {
    "collapsed": false
   },
   "outputs": [],
   "source": [
    "#converting the epoch time to pandas datetime\n",
    "import time\n",
    "#time.time(rating_elec['Timestamp'])\n",
    "def convertEpochTime(epochtime):\n",
    "    return pd.to_datetime(time.strftime('%m/%d/%Y',  time.gmtime(epochtime)))\n",
    "    #return pd.to_datetime(epochtime)"
   ]
  },
  {
   "cell_type": "code",
   "execution_count": null,
   "metadata": {
    "collapsed": true
   },
   "outputs": [],
   "source": []
  },
  {
   "cell_type": "code",
   "execution_count": 7,
   "metadata": {
    "collapsed": false
   },
   "outputs": [
    {
     "data": {
      "text/plain": [
       "user_id                    object\n",
       "item_id                    object\n",
       "rating                    float64\n",
       "epoch_timestamp             int64\n",
       "date_of_review     datetime64[ns]\n",
       "dtype: object"
      ]
     },
     "execution_count": 7,
     "metadata": {},
     "output_type": "execute_result"
    }
   ],
   "source": [
    "rating_elec['date_of_review'] = rating_elec.epoch_timestamp.map(convertEpochTime)\n",
    "rating_elec.dtypes"
   ]
  },
  {
   "cell_type": "code",
   "execution_count": 11,
   "metadata": {
    "collapsed": true
   },
   "outputs": [],
   "source": [
    "#adding a column for day of the week; Monday=0, Sunday=6\n",
    "rating_elec['day_of_review'] = rating_elec.date_of_review.dt.dayofweek"
   ]
  },
  {
   "cell_type": "code",
   "execution_count": 93,
   "metadata": {
    "collapsed": false
   },
   "outputs": [
    {
     "data": {
      "text/plain": [
       "<matplotlib.axes._subplots.AxesSubplot at 0xbe571438>"
      ]
     },
     "execution_count": 93,
     "metadata": {},
     "output_type": "execute_result"
    },
    {
     "data": {
      "image/png": "[encoded data removed]",
      "text/plain": [
       "<matplotlib.figure.Figure at 0x25a92be48>"
      ]
     },
     "metadata": {},
     "output_type": "display_data"
    }
   ],
   "source": [
    "%matplotlib inline\n",
    "rating_elec.Rating.value_counts().plot.bar()"
   ]
  },
  {
   "cell_type": "code",
   "execution_count": 14,
   "metadata": {
    "collapsed": false
   },
   "outputs": [
    {
     "data": {
      "text/plain": [
       "<matplotlib.axes._subplots.AxesSubplot at 0x87db4eb8>"
      ]
     },
     "execution_count": 14,
     "metadata": {},
     "output_type": "execute_result"
    },
    {
     "data": {
      "image/png": "[encoded data removed]",
      "text/plain": [
       "<matplotlib.figure.Figure at 0x75fa9208>"
      ]
     },
     "metadata": {},
     "output_type": "display_data"
    }
   ],
   "source": [
    "%matplotlib inline\n",
    "#rating_elec.plot.scatter('rating','day_of_review')\n",
    "rating_elec.day_of_review.value_counts().plot.bar()"
   ]
  },
  {
   "cell_type": "code",
   "execution_count": null,
   "metadata": {
    "collapsed": true
   },
   "outputs": [],
   "source": []
  }
 ],
 "metadata": {
  "kernelspec": {
   "display_name": "Python 2",
   "language": "python",
   "name": "python2"
  },
  "language_info": {
   "codemirror_mode": {
    "name": "ipython",
    "version": 2
   },
   "file_extension": ".py",
   "mimetype": "text/x-python",
   "name": "python",
   "nbconvert_exporter": "python",
   "pygments_lexer": "ipython2",
   "version": "2.7.13"
  }
 },
 "nbformat": 4,
 "nbformat_minor": 2
}
